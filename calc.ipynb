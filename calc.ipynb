{
  "cells": [
    {
      "cell_type": "code",
      "source": [
        "!pip install sympy\n",
        "!pip install tkinter"
      ],
      "metadata": {
        "id": "IUadwBXFBnQA"
      },
      "execution_count": null,
      "outputs": []
    },
    {
      "cell_type": "code",
      "execution_count": null,
      "metadata": {
        "id": "hddt4HJ0BmWm"
      },
      "outputs": [],
      "source": [
        "import tkinter as tk\n",
        "from tkinter import messagebox\n",
        "from sympy import symbols, diff, integrate, sympify"
      ]
    },
    {
      "cell_type": "code",
      "execution_count": null,
      "metadata": {
        "id": "D2W6lPVFBmWn"
      },
      "outputs": [],
      "source": [
        "def do_math():\n",
        "    expr_input = expr_entry.get()\n",
        "    var_input = var_entry.get()\n",
        "    lower_bound = lower_bound_entry.get()\n",
        "    upper_bound = upper_bound_entry.get()\n",
        "    operation = operation_var.get()\n",
        "\n",
        "    try:\n",
        "        variable = symbols(var_input)\n",
        "        expression = sympify(expr_input)\n",
        "\n",
        "        if operation == \"integral\":\n",
        "            if lower_bound and upper_bound:\n",
        "                # Calculate definite integral\n",
        "                lower = sympify(lower_bound)\n",
        "                upper = sympify(upper_bound)\n",
        "                result = integrate(expression, (variable, lower, upper))\n",
        "                result_text = f\"∫ from {lower} to {upper} of {expression} d{variable} = {result}\"\n",
        "            else:\n",
        "                # Calculate indefinite integral\n",
        "                result = integrate(expression, variable)\n",
        "                result_text = f\"∫ {expression} d{variable} = {result}\"\n",
        "        elif operation == \"derivative\":\n",
        "            # Calculate derivative\n",
        "            result = diff(expression, variable)\n",
        "            result_text = f\"d/d{variable}({expression}) = {result}\"\n",
        "\n",
        "        # Display result\n",
        "        result_display.delete(1.0, tk.END)\n",
        "        result_display.insert(tk.END, result_text)\n",
        "\n",
        "    except Exception as e:\n",
        "        messagebox.showerror(\"Error\", f\"Oops, something went wrong: {e}\")"
      ]
    },
    {
      "cell_type": "code",
      "execution_count": null,
      "metadata": {
        "id": "7m77_WACBmWp",
        "outputId": "1d4e896e-8691-40a1-c844-63caf92aba7e"
      },
      "outputs": [
        {
          "data": {
            "text/plain": [
              "''"
            ]
          },
          "execution_count": 5,
          "metadata": {},
          "output_type": "execute_result"
        }
      ],
      "source": [
        "\n",
        "root = tk.Tk()\n",
        "root.title(\"Symbolic Math Tool\")"
      ]
    },
    {
      "cell_type": "code",
      "execution_count": null,
      "metadata": {
        "id": "NZ3vrLFqBmWq"
      },
      "outputs": [],
      "source": [
        "# GUI Elements\n",
        "tk.Label(root, text=\"Expression (e.g., x**2):\").grid(row=0, column=0, sticky=\"w\")\n",
        "expr_entry = tk.Entry(root, width=50)\n",
        "expr_entry.grid(row=0, column=1, columnspan=3, padx=5, pady=5)\n",
        "\n",
        "tk.Label(root, text=\"Variable (e.g., x):\").grid(row=1, column=0, sticky=\"w\")\n",
        "var_entry = tk.Entry(root, width=10)\n",
        "var_entry.grid(row=1, column=1, padx=5, pady=5)\n",
        "\n",
        "operation_var = tk.StringVar(value=\"integral\")\n",
        "tk.Radiobutton(root, text=\"Integral\", variable=operation_var, value=\"integral\").grid(row=2, column=0, sticky=\"w\")\n",
        "tk.Radiobutton(root, text=\"Derivative\", variable=operation_var, value=\"derivative\").grid(row=2, column=1, sticky=\"w\")\n",
        "\n",
        "tk.Label(root, text=\"Lower Bound (optional):\").grid(row=3, column=0, sticky=\"w\")\n",
        "lower_bound_entry = tk.Entry(root, width=20)\n",
        "lower_bound_entry.grid(row=3, column=1, padx=5, pady=5)\n",
        "\n",
        "tk.Label(root, text=\"Upper Bound (optional):\").grid(row=3, column=2, sticky=\"w\")\n",
        "upper_bound_entry = tk.Entry(root, width=20)\n",
        "upper_bound_entry.grid(row=3, column=3, padx=5, pady=5)\n",
        "\n",
        "tk.Button(root, text=\"Calculate\", command=do_math).grid(row=4, column=1, columnspan=2, pady=10)\n",
        "\n",
        "result_display = tk.Text(root, width=60, height=10, wrap=\"word\")\n",
        "result_display.grid(row=5, column=0, columnspan=4, padx=5, pady=5)"
      ]
    },
    {
      "cell_type": "code",
      "execution_count": null,
      "metadata": {
        "id": "DJt3t20jBmWr"
      },
      "outputs": [],
      "source": [
        "root.mainloop()"
      ]
    }
  ],
  "metadata": {
    "kernelspec": {
      "display_name": "Python 3",
      "language": "python",
      "name": "python3"
    },
    "language_info": {
      "codemirror_mode": {
        "name": "ipython",
        "version": 3
      },
      "file_extension": ".py",
      "mimetype": "text/x-python",
      "name": "python",
      "nbconvert_exporter": "python",
      "pygments_lexer": "ipython3",
      "version": "3.12.5"
    },
    "colab": {
      "provenance": []
    }
  },
  "nbformat": 4,
  "nbformat_minor": 0
}